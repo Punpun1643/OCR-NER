{
 "cells": [
  {
   "cell_type": "markdown",
   "id": "61221cd8",
   "metadata": {},
   "source": [
    "# Data Preparation"
   ]
  },
  {
   "cell_type": "code",
   "execution_count": 1,
   "id": "b7c2ecce",
   "metadata": {},
   "outputs": [],
   "source": [
    "import numpy as np\n",
    "import pandas as pd\n",
    "import cv2\n",
    "import pytesseract\n",
    "\n",
    "import os\n",
    "from glob import glob # for reading the files\n",
    "from tqdm import tqdm\n",
    "\n",
    "import warnings\n",
    "warnings.filterwarnings('ignore')"
   ]
  },
  {
   "cell_type": "code",
   "execution_count": 2,
   "id": "8ecef274",
   "metadata": {},
   "outputs": [],
   "source": [
    "imgPaths = glob('./Selected/*.jpeg')"
   ]
  },
  {
   "cell_type": "code",
   "execution_count": 24,
   "id": "be3b4884",
   "metadata": {},
   "outputs": [
    {
     "name": "stderr",
     "output_type": "stream",
     "text": [
      "BusinessCard: 100%|███████████████████████████| 293/293 [03:46<00:00,  1.29it/s]\n"
     ]
    }
   ],
   "source": [
    "allBusinessCard = pd.DataFrame(columns=['id','text'])\n",
    "for imgPath in tqdm(imgPaths, desc=\"BusinessCard\"):\n",
    "\n",
    "    _, filename = os.path.split(imgPath)\n",
    "\n",
    "    # extract data and text\n",
    "    image = cv2.imread(imgPath)\n",
    "    data = pytesseract.image_to_data(image)\n",
    "    dataList = list(map(lambda x: x.split('\\t'), data.split('\\n')))\n",
    "    df = pd.DataFrame(dataList[1:], columns=dataList[0])\n",
    "    df.dropna(inplace=True)\n",
    "    df['conf'] = df['conf'].astype(float)\n",
    "    df['conf'] = df['conf'].astype(int)\n",
    "\n",
    "    usefulData = df.query('conf>=30')\n",
    "\n",
    "    # DataFrame\n",
    "    businessCard = pd.DataFrame()\n",
    "    businessCard['text'] = usefulData['text']\n",
    "    businessCard['id'] = filename\n",
    "    \n",
    "    # concatenation (save all the info)\n",
    "    allBusinessCard = pd.concat((allBusinessCard, businessCard))"
   ]
  },
  {
   "cell_type": "code",
   "execution_count": 28,
   "id": "efd8bdc2",
   "metadata": {},
   "outputs": [],
   "source": [
    "allBusinessCard.to_csv('businessCard.csv', index=False)"
   ]
  },
  {
   "cell_type": "code",
   "execution_count": null,
   "id": "70a8ae08",
   "metadata": {},
   "outputs": [],
   "source": []
  }
 ],
 "metadata": {
  "kernelspec": {
   "display_name": "Python 3 (ipykernel)",
   "language": "python",
   "name": "python3"
  },
  "language_info": {
   "codemirror_mode": {
    "name": "ipython",
    "version": 3
   },
   "file_extension": ".py",
   "mimetype": "text/x-python",
   "name": "python",
   "nbconvert_exporter": "python",
   "pygments_lexer": "ipython3",
   "version": "3.9.10"
  }
 },
 "nbformat": 4,
 "nbformat_minor": 5
}
